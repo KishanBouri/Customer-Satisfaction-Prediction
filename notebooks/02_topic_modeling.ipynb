{
 "cells": [
  {
   "cell_type": "markdown",
   "id": "bbd7a194",
   "metadata": {},
   "source": [
    "# Preprocessing for Topic Modeling"
   ]
  },
  {
   "cell_type": "code",
   "execution_count": 37,
   "id": "c3635cf5",
   "metadata": {},
   "outputs": [
    {
     "name": "stdout",
     "output_type": "stream",
     "text": [
      "Requirement already satisfied: gensim in c:\\users\\hp\\appdata\\local\\packages\\pythonsoftwarefoundation.python.3.11_qbz5n2kfra8p0\\localcache\\local-packages\\python311\\site-packages (4.3.3)\n",
      "Requirement already satisfied: numpy<2.0,>=1.18.5 in c:\\users\\hp\\appdata\\local\\packages\\pythonsoftwarefoundation.python.3.11_qbz5n2kfra8p0\\localcache\\local-packages\\python311\\site-packages (from gensim) (1.26.4)\n",
      "Requirement already satisfied: scipy<1.14.0,>=1.7.0 in c:\\users\\hp\\appdata\\local\\packages\\pythonsoftwarefoundation.python.3.11_qbz5n2kfra8p0\\localcache\\local-packages\\python311\\site-packages (from gensim) (1.13.1)\n",
      "Requirement already satisfied: smart-open>=1.8.1 in c:\\users\\hp\\appdata\\local\\packages\\pythonsoftwarefoundation.python.3.11_qbz5n2kfra8p0\\localcache\\local-packages\\python311\\site-packages (from gensim) (7.1.0)\n",
      "Requirement already satisfied: wrapt in c:\\users\\hp\\appdata\\local\\packages\\pythonsoftwarefoundation.python.3.11_qbz5n2kfra8p0\\localcache\\local-packages\\python311\\site-packages (from smart-open>=1.8.1->gensim) (1.17.2)\n"
     ]
    }
   ],
   "source": [
    "!pip install gensim\n"
   ]
  },
  {
   "cell_type": "code",
   "execution_count": 38,
   "id": "60e22910",
   "metadata": {},
   "outputs": [
    {
     "name": "stderr",
     "output_type": "stream",
     "text": [
      "[nltk_data] Downloading package punkt to C:/Users/Hp/Customer\n",
      "[nltk_data]     Satisfaction Prediction/notebooks/nltk_data...\n",
      "[nltk_data]   Package punkt is already up-to-date!\n",
      "[nltk_data] Downloading package punkt_tab to C:/Users/Hp/Customer\n",
      "[nltk_data]     Satisfaction Prediction/notebooks/nltk_data...\n",
      "[nltk_data]   Package punkt_tab is already up-to-date!\n",
      "[nltk_data] Downloading package stopwords to C:/Users/Hp/Customer\n",
      "[nltk_data]     Satisfaction Prediction/notebooks/nltk_data...\n",
      "[nltk_data]   Package stopwords is already up-to-date!\n",
      "[nltk_data] Downloading package wordnet to C:/Users/Hp/Customer\n",
      "[nltk_data]     Satisfaction Prediction/notebooks/nltk_data...\n",
      "[nltk_data]   Package wordnet is already up-to-date!\n",
      "[nltk_data] Downloading package omw-1.4 to C:/Users/Hp/Customer\n",
      "[nltk_data]     Satisfaction Prediction/notebooks/nltk_data...\n",
      "[nltk_data]   Package omw-1.4 is already up-to-date!\n"
     ]
    }
   ],
   "source": [
    "\n",
    "\n",
    "from nltk.stem import WordNetLemmatizer\n",
    "from nltk.tokenize import word_tokenize\n",
    "from gensim import corpora\n",
    "\n",
    "nltk_data_path = \"C:/Users/Hp/Customer Satisfaction Prediction/notebooks/nltk_data\"\n",
    "nltk.data.path.append(nltk_data_path)\n",
    "\n",
    "\n",
    "nltk.download('punkt', download_dir=nltk_data_path)\n",
    "nltk.download('punkt_tab', download_dir=nltk_data_path) \n",
    "nltk.download('stopwords', download_dir=nltk_data_path)\n",
    "nltk.download('wordnet', download_dir=nltk_data_path)\n",
    "nltk.download('omw-1.4', download_dir=nltk_data_path)\n",
    "\n",
    "\n",
    "df = pd.read_csv(\"../data/processed/sentiment_scored_tickets.csv\")\n",
    "\n",
    "#  Initialize tools\n",
    "lemmatizer = WordNetLemmatizer()\n",
    "stop_words = set(stopwords.words(\"english\"))\n",
    "\n",
    "#  Tokenizer Function\n",
    "def preprocess_for_lda(text):\n",
    "    try:\n",
    "        tokens = word_tokenize(text.lower())\n",
    "        tokens = [t for t in tokens if t.isalpha()]  # Remove punctuation/numbers\n",
    "        tokens = [t for t in tokens if t not in stop_words]\n",
    "        tokens = [lemmatizer.lemmatize(t) for t in tokens]\n",
    "        return tokens\n",
    "    except Exception as e:\n",
    "        print(\" Tokenization failed:\", e)\n",
    "        return []\n",
    "\n",
    "\n",
    "# Preprocessing function\n",
    "def preprocess_for_lda(text):\n",
    "    from nltk.tokenize import word_tokenize  # Ensure loaded from working env\n",
    "    tokens = word_tokenize(text.lower())\n",
    "    tokens = [t for t in tokens if t.isalpha()]\n",
    "    tokens = [t for t in tokens if t not in stop_words]\n",
    "    tokens = [lemmatizer.lemmatize(t) for t in tokens]\n",
    "    return tokens\n",
    "\n",
    "# Apply to entire DataFrame\n",
    "df[\"tokens\"] = df[\"Ticket Description\"].astype(str).apply(preprocess_for_lda)\n",
    "\n",
    "\n",
    "df.to_csv(\"../data/processed/tokens_for_lda.csv\", index=False)\n"
   ]
  },
  {
   "cell_type": "code",
   "execution_count": 12,
   "id": "cf816ee7",
   "metadata": {},
   "outputs": [
    {
     "name": "stdout",
     "output_type": "stream",
     "text": [
      "['Hello', 'there', '!', 'This', 'is', 'a', 'simple', 'test', 'sentence', '.']\n"
     ]
    }
   ],
   "source": [
    "from nltk.tokenize import word_tokenize\n",
    "\n",
    "test_text = \"Hello there! This is a simple test sentence.\"\n",
    "tokens = word_tokenize(test_text)\n",
    "print(tokens)\n"
   ]
  },
  {
   "cell_type": "markdown",
   "id": "4db66c4e",
   "metadata": {},
   "source": [
    "# Create Dictionary and Corpus\n",
    "\n"
   ]
  },
  {
   "cell_type": "code",
   "execution_count": 14,
   "id": "68e7a52d",
   "metadata": {},
   "outputs": [],
   "source": [
    "from gensim import corpora\n",
    "\n",
    "# Dictionary maps every word to a unique ID\n",
    "dictionary = corpora.Dictionary(df[\"tokens\"])\n",
    "\n",
    "# Corpus is the Bag-of-Words representation of each document\n",
    "corpus = [dictionary.doc2bow(text) for text in df[\"tokens\"]]\n"
   ]
  },
  {
   "cell_type": "markdown",
   "id": "e13bac5f",
   "metadata": {},
   "source": [
    "# Train LDA Model"
   ]
  },
  {
   "cell_type": "code",
   "execution_count": 39,
   "id": "108f3484",
   "metadata": {},
   "outputs": [],
   "source": [
    "from gensim.models.ldamodel import LdaModel\n",
    "\n",
    "# Train LDA model\n",
    "lda_model = LdaModel(\n",
    "    corpus=corpus,\n",
    "    id2word=dictionary,\n",
    "    num_topics=5,  \n",
    "    random_state=42,\n",
    "    passes=10,\n",
    "    per_word_topics=True\n",
    ")\n"
   ]
  },
  {
   "cell_type": "markdown",
   "id": "ac20f911",
   "metadata": {},
   "source": [
    "# Display Top Words per Topic\n"
   ]
  },
  {
   "cell_type": "code",
   "execution_count": 17,
   "id": "521fe7b8",
   "metadata": {},
   "outputs": [
    {
     "name": "stdout",
     "output_type": "stream",
     "text": [
      " Topic 0: 0.081*\"issue\" + 0.028*\"time\" + 0.028*\"please\" + 0.024*\"fine\" + 0.022*\"facing\" + 0.022*\"network\" + 0.022*\"assist\" + 0.019*\"recently\" + 0.015*\"update\" + 0.014*\"updated\"\n",
      " Topic 1: 0.043*\"like\" + 0.041*\"please\" + 0.036*\"would\" + 0.035*\"issue\" + 0.034*\"assist\" + 0.031*\"account\" + 0.028*\"data\" + 0.028*\"ensure\" + 0.028*\"safe\" + 0.028*\"security\"\n",
      " Topic 2: 0.064*\"please\" + 0.059*\"issue\" + 0.038*\"assist\" + 0.023*\"device\" + 0.022*\"problem\" + 0.018*\"made\" + 0.015*\"software\" + 0.015*\"unable\" + 0.014*\"screen\" + 0.014*\"update\"\n",
      " Topic 3: 0.089*\"issue\" + 0.065*\"please\" + 0.048*\"assist\" + 0.027*\"product\" + 0.023*\"persists\" + 0.021*\"tried\" + 0.020*\"need\" + 0.014*\"step\" + 0.013*\"troubleshooting\" + 0.013*\"work\"\n",
      " Topic 4: 0.038*\"issue\" + 0.036*\"software\" + 0.031*\"reset\" + 0.030*\"update\" + 0.030*\"resolve\" + 0.025*\"data\" + 0.025*\"problem\" + 0.024*\"help\" + 0.023*\"would\" + 0.023*\"please\"\n"
     ]
    }
   ],
   "source": [
    "# Print top 10 words for each topic\n",
    "for idx, topic in lda_model.print_topics(num_words=10):\n",
    "    print(f\" Topic {idx}: {topic}\")\n"
   ]
  },
  {
   "cell_type": "markdown",
   "id": "27b39c56",
   "metadata": {},
   "source": [
    "# Assign Dominant Topic to Each Ticket\n"
   ]
  },
  {
   "cell_type": "code",
   "execution_count": 40,
   "id": "4bf8dcef",
   "metadata": {},
   "outputs": [],
   "source": [
    "def get_dominant_topic(lda_model, bow):\n",
    "    topics = lda_model.get_document_topics(bow)\n",
    "    if topics:\n",
    "        return sorted(topics, key=lambda x: -x[1])[0][0]\n",
    "    return None\n",
    "\n",
    "# Apply to all tickets\n",
    "df[\"Dominant_Topic\"] = [get_dominant_topic(lda_model, doc) for doc in corpus]\n",
    "\n",
    "\n",
    "df.to_csv(\"../data/processed/tickets_with_topics.csv\", index=False)\n"
   ]
  },
  {
   "cell_type": "code",
   "execution_count": 19,
   "id": "577697f5",
   "metadata": {},
   "outputs": [
    {
     "name": "stderr",
     "output_type": "stream",
     "text": [
      "C:\\Users\\Hp\\AppData\\Local\\Temp\\ipykernel_25276\\3417306282.py:5: FutureWarning: \n",
      "\n",
      "Passing `palette` without assigning `hue` is deprecated and will be removed in v0.14.0. Assign the `x` variable to `hue` and set `legend=False` for the same effect.\n",
      "\n",
      "  sns.countplot(x=\"Dominant_Topic\", data=df, palette=\"tab10\")\n"
     ]
    },
    {
     "data": {
      "image/png": "[encoded data removed]",
      "text/plain": [
       "<Figure size 800x600 with 1 Axes>"
      ]
     },
     "metadata": {},
     "output_type": "display_data"
    }
   ],
   "source": [
    "import seaborn as sns\n",
    "import matplotlib.pyplot as plt\n",
    "\n",
    "plt.figure(figsize=(8, 6))\n",
    "sns.countplot(x=\"Dominant_Topic\", data=df, palette=\"tab10\")\n",
    "plt.title(\"Topic Distribution\")\n",
    "plt.xlabel(\"Topic\")\n",
    "plt.ylabel(\"Number of Tickets\")\n",
    "plt.tight_layout()\n",
    "plt.show()\n"
   ]
  },
  {
   "cell_type": "code",
   "execution_count": 28,
   "id": "6b755b7a",
   "metadata": {},
   "outputs": [
    {
     "name": "stdout",
     "output_type": "stream",
     "text": [
      "   Topic                                       Top Keywords\n",
      "0      0  issue, time, please, fine, facing, network, as...\n",
      "1      1  like, please, would, issue, assist, account, d...\n",
      "2      2  please, issue, assist, device, problem, made, ...\n",
      "3      3  issue, please, assist, product, persists, trie...\n",
      "4      4  issue, software, reset, update, resolve, data,...\n"
     ]
    }
   ],
   "source": [
    "# Top words per topic\n",
    "top_words_per_topic = []\n",
    "\n",
    "for i in range(lda_model.num_topics):\n",
    "    words = lda_model.show_topic(i, topn=10)\n",
    "    topic_keywords = [word for word, prob in words]\n",
    "    top_words_per_topic.append((i, \", \".join(topic_keywords)))\n",
    "\n",
    "# Convert to DataFrame\n",
    "topics_df = pd.DataFrame(top_words_per_topic, columns=[\"Topic\", \"Top Keywords\"])\n",
    "print(topics_df)\n"
   ]
  },
  {
   "cell_type": "code",
   "execution_count": 30,
   "id": "4505e5a2",
   "metadata": {},
   "outputs": [
    {
     "name": "stdout",
     "output_type": "stream",
     "text": [
      "Collecting tabulate\n",
      "  Downloading tabulate-0.9.0-py3-none-any.whl.metadata (34 kB)\n",
      "Downloading tabulate-0.9.0-py3-none-any.whl (35 kB)\n",
      "Installing collected packages: tabulate\n",
      "Successfully installed tabulate-0.9.0\n"
     ]
    }
   ],
   "source": [
    "!pip install tabulate\n"
   ]
  },
  {
   "cell_type": "code",
   "execution_count": 31,
   "id": "8906d645",
   "metadata": {},
   "outputs": [
    {
     "name": "stdout",
     "output_type": "stream",
     "text": [
      "|    |   Topic | Top Keywords                                                                       |\n",
      "|----|---------|------------------------------------------------------------------------------------|\n",
      "|  0 |       0 | issue, time, please, fine, facing, network, assist, recently, update, updated      |\n",
      "|  1 |       1 | like, please, would, issue, assist, account, data, ensure, safe, security          |\n",
      "|  2 |       2 | please, issue, assist, device, problem, made, software, unable, screen, update     |\n",
      "|  3 |       3 | issue, please, assist, product, persists, tried, need, step, troubleshooting, work |\n",
      "|  4 |       4 | issue, software, reset, update, resolve, data, problem, help, would, please        |\n"
     ]
    }
   ],
   "source": [
    "from tabulate import tabulate\n",
    "\n",
    "print(tabulate(topics_df, headers=\"keys\", tablefmt=\"github\"))\n"
   ]
  },
  {
   "cell_type": "code",
   "execution_count": 32,
   "id": "db181967",
   "metadata": {},
   "outputs": [],
   "source": [
    "# Replace with your actual interpretations\n",
    "topic_labels = {\n",
    "    0: \"Late Delivery\",\n",
    "    1: \"Payment/Refund Issues\",\n",
    "    2: \"Product Quality\",\n",
    "    3: \"Customer Support\",\n",
    "    4: \"Account/Login Problems\"\n",
    "}\n"
   ]
  },
  {
   "cell_type": "code",
   "execution_count": 33,
   "id": "a6c9b788",
   "metadata": {},
   "outputs": [],
   "source": [
    "df[\"Topic_Label\"] = df[\"Dominant_Topic\"].map(topic_labels)\n"
   ]
  },
  {
   "cell_type": "code",
   "execution_count": 34,
   "id": "9feeae11",
   "metadata": {},
   "outputs": [
    {
     "name": "stderr",
     "output_type": "stream",
     "text": [
      "C:\\Users\\Hp\\AppData\\Local\\Temp\\ipykernel_25276\\2588318293.py:2: FutureWarning: \n",
      "\n",
      "Passing `palette` without assigning `hue` is deprecated and will be removed in v0.14.0. Assign the `x` variable to `hue` and set `legend=False` for the same effect.\n",
      "\n",
      "  sns.countplot(x=\"Topic_Label\", data=df, order=df[\"Topic_Label\"].value_counts().index, palette=\"Set2\")\n"
     ]
    },
    {
     "data": {
      "image/png": "[encoded data removed]",
      "text/plain": [
       "<Figure size 1000x600 with 1 Axes>"
      ]
     },
     "metadata": {},
     "output_type": "display_data"
    }
   ],
   "source": [
    "plt.figure(figsize=(10, 6))\n",
    "sns.countplot(x=\"Topic_Label\", data=df, order=df[\"Topic_Label\"].value_counts().index, palette=\"Set2\")\n",
    "plt.title(\"Tickets per Topic (Labeled)\")\n",
    "plt.xlabel(\"Topic Label\")\n",
    "plt.ylabel(\"Count\")\n",
    "plt.xticks(rotation=45)\n",
    "plt.tight_layout()\n",
    "plt.show()\n"
   ]
  },
  {
   "cell_type": "code",
   "execution_count": 35,
   "id": "b042ede4",
   "metadata": {},
   "outputs": [],
   "source": [
    "df.to_csv(\"../data/processed/topic_labeled_tickets.csv\", index=False)\n"
   ]
  }
 ],
 "metadata": {
  "kernelspec": {
   "display_name": "Python 3",
   "language": "python",
   "name": "python3"
  },
  "language_info": {
   "codemirror_mode": {
    "name": "ipython",
    "version": 3
   },
   "file_extension": ".py",
   "mimetype": "text/x-python",
   "name": "python",
   "nbconvert_exporter": "python",
   "pygments_lexer": "ipython3",
   "version": "3.11.9"
  }
 },
 "nbformat": 4,
 "nbformat_minor": 5
}
